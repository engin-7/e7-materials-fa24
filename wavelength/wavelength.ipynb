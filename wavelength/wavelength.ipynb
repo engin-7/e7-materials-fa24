{
 "cells": [
  {
   "cell_type": "code",
   "execution_count": null,
   "id": "93b4c03f-fc5c-4b73-9645-3b94b1fb8d22",
   "metadata": {},
   "outputs": [],
   "source": [
    "import sys\n",
    "import os\n",
    "import numpy as np\n",
    "import csv\n",
    "import ipywidgets as widgets\n",
    "sys.path.append('resources')\n",
    "import helper\n",
    "\n",
    "lec = widgets.IntSlider(min=1, max=16, description='Lecture to play:', continuous_update=False, style={'description_width': 'initial'})\n",
    "# Display the input field\n",
    "display(lec)"
   ]
  },
  {
   "cell_type": "code",
   "execution_count": null,
   "id": "baf2dd8e-8b60-4cf6-a85b-f61a7a68fa17",
   "metadata": {},
   "outputs": [],
   "source": [
    "# Reference: https://www.wavelength.zone/\n",
    "helper.main(lec.value)"
   ]
  }
 ],
 "metadata": {
  "kernelspec": {
   "display_name": "Python 3 (ipykernel)",
   "language": "python",
   "name": "python3"
  },
  "language_info": {
   "codemirror_mode": {
    "name": "ipython",
    "version": 3
   },
   "file_extension": ".py",
   "mimetype": "text/x-python",
   "name": "python",
   "nbconvert_exporter": "python",
   "pygments_lexer": "ipython3",
   "version": "3.11.9"
  }
 },
 "nbformat": 4,
 "nbformat_minor": 5
}
